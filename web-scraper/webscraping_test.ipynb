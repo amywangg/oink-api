{
 "cells": [
  {
   "cell_type": "code",
   "execution_count": 1,
   "metadata": {},
   "outputs": [
    {
     "name": "stdout",
     "output_type": "stream",
     "text": [
      "importing Jupyter notebook from scraping_cart.ipynb\n"
     ]
    },
    {
     "name": "stderr",
     "output_type": "stream",
     "text": [
      "<ipython-input-1-fabc6e130c17>:10: ResourceWarning: unclosed file <_io.TextIOWrapper name='test1_cart.html' mode='r' encoding='UTF-8'>\n",
      "  self.assertTrue(scrape_cart('test1_cart.html'))\n",
      "ResourceWarning: Enable tracemalloc to get the object allocation traceback\n",
      ".<ipython-input-1-fabc6e130c17>:12: ResourceWarning: unclosed file <_io.TextIOWrapper name='test2_cart.html' mode='r' encoding='UTF-8'>\n",
      "  self.assertTrue(scrape_cart('test2_cart.html'))\n",
      "ResourceWarning: Enable tracemalloc to get the object allocation traceback\n",
      ".<ipython-input-1-fabc6e130c17>:14: ResourceWarning: unclosed file <_io.TextIOWrapper name='test3_cart.html' mode='r' encoding='UTF-8'>\n",
      "  self.assertTrue(scrape_cart('test3_cart.html'))\n",
      "ResourceWarning: Enable tracemalloc to get the object allocation traceback\n",
      "F<ipython-input-1-fabc6e130c17>:16: ResourceWarning: unclosed file <_io.TextIOWrapper name='test4_cart.html' mode='r' encoding='UTF-8'>\n",
      "  self.assertTrue(scrape_cart('test4_cart.html'))\n",
      "ResourceWarning: Enable tracemalloc to get the object allocation traceback\n",
      ".<ipython-input-1-fabc6e130c17>:18: ResourceWarning: unclosed file <_io.TextIOWrapper name='test5_cart.html' mode='r' encoding='UTF-8'>\n",
      "  self.assertTrue(scrape_cart('test5_cart.html'))\n",
      "ResourceWarning: Enable tracemalloc to get the object allocation traceback\n",
      ".<ipython-input-1-fabc6e130c17>:20: ResourceWarning: unclosed file <_io.TextIOWrapper name='test6_cart.html' mode='r' encoding='UTF-8'>\n",
      "  self.assertTrue(scrape_cart('test6_cart.html'))\n",
      "ResourceWarning: Enable tracemalloc to get the object allocation traceback\n",
      "F\n",
      "======================================================================\n",
      "FAIL: test3 (__main__.TestWebScraper)\n",
      "----------------------------------------------------------------------\n",
      "Traceback (most recent call last):\n",
      "  File \"<ipython-input-1-fabc6e130c17>\", line 14, in test3\n",
      "    self.assertTrue(scrape_cart('test3_cart.html'))\n",
      "AssertionError: False is not true\n",
      "\n",
      "======================================================================\n",
      "FAIL: test6 (__main__.TestWebScraper)\n",
      "----------------------------------------------------------------------\n",
      "Traceback (most recent call last):\n",
      "  File \"<ipython-input-1-fabc6e130c17>\", line 20, in test6\n",
      "    self.assertTrue(scrape_cart('test6_cart.html'))\n",
      "AssertionError: False is not true\n",
      "\n",
      "----------------------------------------------------------------------\n",
      "Ran 6 tests in 0.437s\n",
      "\n",
      "FAILED (failures=2)\n"
     ]
    },
    {
     "data": {
      "text/plain": [
       "<unittest.main.TestProgram at 0x7fad5c230c40>"
      ]
     },
     "execution_count": 1,
     "metadata": {},
     "output_type": "execute_result"
    }
   ],
   "source": [
    "import unittest\n",
    "import import_ipynb\n",
    "from scraping_cart import scrape_cart\n",
    "\n",
    "\n",
    "\n",
    "class TestWebScraper(unittest.TestCase):\n",
    "    \n",
    "    def test1(self):\n",
    "        self.assertTrue(scrape_cart('test1_cart.html'))\n",
    "    def test2(self):\n",
    "        self.assertTrue(scrape_cart('test2_cart.html'))\n",
    "    def test3(self):\n",
    "        self.assertTrue(scrape_cart('test3_cart.html'))\n",
    "    def test4(self):\n",
    "        self.assertTrue(scrape_cart('test4_cart.html'))\n",
    "    def test5(self):\n",
    "        self.assertTrue(scrape_cart('test5_cart.html'))\n",
    "    def test6(self):\n",
    "        self.assertTrue(scrape_cart('test6_cart.html'))\n",
    "        \n",
    "unittest.main(argv=['first-arg-is-ignored'], exit=False)\n",
    "\n",
    "\n"
   ]
  }
 ],
 "metadata": {
  "kernelspec": {
   "display_name": "Python 3",
   "language": "python",
   "name": "python3"
  },
  "language_info": {
   "codemirror_mode": {
    "name": "ipython",
    "version": 3
   },
   "file_extension": ".py",
   "mimetype": "text/x-python",
   "name": "python",
   "nbconvert_exporter": "python",
   "pygments_lexer": "ipython3",
   "version": "3.8.3"
  }
 },
 "nbformat": 4,
 "nbformat_minor": 4
}
