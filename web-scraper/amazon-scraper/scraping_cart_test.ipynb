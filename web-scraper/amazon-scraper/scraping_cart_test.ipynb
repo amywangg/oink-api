{
 "cells": [
  {
   "cell_type": "markdown",
   "metadata": {},
   "source": [
    "To run the unit tests, run the first cell. It should output the number of successful tests out of 6. \n",
    "\n",
    "Ensure that import_ipynb is installed on your computer first. To do so, go to command line/ terminal and run:\n",
    "*pip install import_ipynb*\n",
    "\n",
    "If the script runs into an error, try restarting the kernel. "
   ]
  },
  {
   "cell_type": "code",
   "execution_count": 1,
   "metadata": {},
   "outputs": [
    {
     "name": "stdout",
     "output_type": "stream",
     "text": [
      "importing Jupyter notebook from scraping_cart.ipynb\n"
     ]
    },
    {
     "name": "stderr",
     "output_type": "stream",
     "text": [
      "<ipython-input-1-adc842a31385>:10: ResourceWarning: unclosed file <_io.TextIOWrapper name='test1_cart.html' mode='r' encoding='UTF-8'>\n",
      "  self.assertTrue(scrape_cart('test1_cart.html'))\n",
      "ResourceWarning: Enable tracemalloc to get the object allocation traceback\n",
      ".<ipython-input-1-adc842a31385>:12: ResourceWarning: unclosed file <_io.TextIOWrapper name='test2_cart.html' mode='r' encoding='UTF-8'>\n",
      "  self.assertTrue(scrape_cart('test2_cart.html'))\n",
      "ResourceWarning: Enable tracemalloc to get the object allocation traceback\n",
      ".<ipython-input-1-adc842a31385>:14: ResourceWarning: unclosed file <_io.TextIOWrapper name='test3_cart.html' mode='r' encoding='UTF-8'>\n",
      "  self.assertTrue(scrape_cart('test3_cart.html'))\n",
      "ResourceWarning: Enable tracemalloc to get the object allocation traceback\n",
      "F<ipython-input-1-adc842a31385>:16: ResourceWarning: unclosed file <_io.TextIOWrapper name='test4_cart.html' mode='r' encoding='UTF-8'>\n",
      "  self.assertTrue(scrape_cart('test4_cart.html'))\n",
      "ResourceWarning: Enable tracemalloc to get the object allocation traceback\n",
      ".<ipython-input-1-adc842a31385>:18: ResourceWarning: unclosed file <_io.TextIOWrapper name='test5_cart.html' mode='r' encoding='UTF-8'>\n",
      "  self.assertTrue(scrape_cart('test5_cart.html'))\n",
      "ResourceWarning: Enable tracemalloc to get the object allocation traceback\n",
      ".<ipython-input-1-adc842a31385>:20: ResourceWarning: unclosed file <_io.TextIOWrapper name='test6_cart.html' mode='r' encoding='UTF-8'>\n",
      "  self.assertTrue(scrape_cart('test6_cart.html'))\n",
      "ResourceWarning: Enable tracemalloc to get the object allocation traceback\n",
      "F\n",
      "======================================================================\n",
      "FAIL: test3 (__main__.TestWebScraper)\n",
      "----------------------------------------------------------------------\n",
      "Traceback (most recent call last):\n",
      "  File \"<ipython-input-1-adc842a31385>\", line 14, in test3\n",
      "    self.assertTrue(scrape_cart('test3_cart.html'))\n",
      "AssertionError: False is not true\n",
      "\n",
      "======================================================================\n",
      "FAIL: test6 (__main__.TestWebScraper)\n",
      "----------------------------------------------------------------------\n",
      "Traceback (most recent call last):\n",
      "  File \"<ipython-input-1-adc842a31385>\", line 20, in test6\n",
      "    self.assertTrue(scrape_cart('test6_cart.html'))\n",
      "AssertionError: False is not true\n",
      "\n",
      "----------------------------------------------------------------------\n",
      "Ran 6 tests in 0.451s\n",
      "\n",
      "FAILED (failures=2)\n"
     ]
    },
    {
     "data": {
      "text/plain": [
       "<unittest.main.TestProgram at 0x7fb983a27ca0>"
      ]
     },
     "execution_count": 1,
     "metadata": {},
     "output_type": "execute_result"
    }
   ],
   "source": [
    "import unittest\n",
    "import import_ipynb\n",
    "# importing the Jupyter notebook with the scraper\n",
    "from scraping_cart import scrape_cart \n",
    "\n",
    "\n",
    "class TestWebScraper(unittest.TestCase):\n",
    "    \n",
    "    def test1(self):\n",
    "        self.assertTrue(scrape_cart('test1_cart.html'))\n",
    "    def test2(self):\n",
    "        self.assertTrue(scrape_cart('test2_cart.html'))\n",
    "    def test3(self):\n",
    "        self.assertTrue(scrape_cart('test3_cart.html'))\n",
    "    def test4(self):\n",
    "        self.assertTrue(scrape_cart('test4_cart.html'))\n",
    "    def test5(self):\n",
    "        self.assertTrue(scrape_cart('test5_cart.html'))\n",
    "    def test6(self):\n",
    "        self.assertTrue(scrape_cart('test6_cart.html'))\n",
    "\n",
    "\n",
    "# to prevent unittest.main from trying to shutdown the kernel process\n",
    "unittest.main(argv=['first-arg-is-ignored'], exit=False)\n"
   ]
  },
  {
   "cell_type": "code",
   "execution_count": null,
   "metadata": {},
   "outputs": [],
   "source": []
  }
 ],
 "metadata": {
  "kernelspec": {
   "display_name": "Python 3",
   "language": "python",
   "name": "python3"
  },
  "language_info": {
   "codemirror_mode": {
    "name": "ipython",
    "version": 3
   },
   "file_extension": ".py",
   "mimetype": "text/x-python",
   "name": "python",
   "nbconvert_exporter": "python",
   "pygments_lexer": "ipython3",
   "version": "3.8.3"
  }
 },
 "nbformat": 4,
 "nbformat_minor": 4
}
