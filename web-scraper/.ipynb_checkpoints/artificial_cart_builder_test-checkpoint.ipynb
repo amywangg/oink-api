{
 "cells": [
  {
   "cell_type": "code",
   "execution_count": 1,
   "metadata": {},
   "outputs": [
    {
     "name": "stdout",
     "output_type": "stream",
     "text": [
      "importing Jupyter notebook from artificial_cart_builder.ipynb\n"
     ]
    },
    {
     "name": "stderr",
     "output_type": "stream",
     "text": [
      "<ipython-input-1-8e9c37dcfea1>:9: ResourceWarning: unclosed file <_io.TextIOWrapper name='amazon-items.html' mode='r' encoding='UTF-8'>\n",
      "  self.assertFalse(build_cart(-1))\n",
      "ResourceWarning: Enable tracemalloc to get the object allocation traceback\n",
      ".<ipython-input-1-8e9c37dcfea1>:11: ResourceWarning: unclosed file <_io.TextIOWrapper name='amazon-items.html' mode='r' encoding='UTF-8'>\n",
      "  self.assertTrue(build_cart(0))\n",
      "ResourceWarning: Enable tracemalloc to get the object allocation traceback\n",
      "."
     ]
    },
    {
     "name": "stdout",
     "output_type": "stream",
     "text": [
      "Count of items out of range. Please pick a non-negative integer less than or equal to 28.\n"
     ]
    },
    {
     "name": "stderr",
     "output_type": "stream",
     "text": [
      "<ipython-input-1-8e9c37dcfea1>:13: ResourceWarning: unclosed file <_io.TextIOWrapper name='amazon-items.html' mode='r' encoding='UTF-8'>\n",
      "  self.assertTrue(build_cart(15))\n",
      "ResourceWarning: Enable tracemalloc to get the object allocation traceback\n",
      ".<ipython-input-1-8e9c37dcfea1>:15: ResourceWarning: unclosed file <_io.TextIOWrapper name='amazon-items.html' mode='r' encoding='UTF-8'>\n",
      "  self.assertTrue(build_cart(28))\n",
      "ResourceWarning: Enable tracemalloc to get the object allocation traceback\n",
      ".<ipython-input-1-8e9c37dcfea1>:17: ResourceWarning: unclosed file <_io.TextIOWrapper name='amazon-items.html' mode='r' encoding='UTF-8'>\n",
      "  self.assertFalse(build_cart(29))\n",
      "ResourceWarning: Enable tracemalloc to get the object allocation traceback\n",
      ".<ipython-input-1-8e9c37dcfea1>:19: ResourceWarning: unclosed file <_io.TextIOWrapper name='amazon-items.html' mode='r' encoding='UTF-8'>\n",
      "  self.assertFalse(build_cart('one'))\n",
      "ResourceWarning: Enable tracemalloc to get the object allocation traceback\n",
      "."
     ]
    },
    {
     "name": "stdout",
     "output_type": "stream",
     "text": [
      "Count of items out of range. Please pick a non-negative integer less than or equal to 28.\n"
     ]
    },
    {
     "name": "stderr",
     "output_type": "stream",
     "text": [
      "\n",
      "----------------------------------------------------------------------\n",
<<<<<<< HEAD
      "Ran 6 tests in 0.775s\n",
=======
      "Ran 6 tests in 0.776s\n",
>>>>>>> 24d16c8660bf2399bfefda013aac397f615be214
      "\n",
      "OK\n"
     ]
    },
    {
     "data": {
      "text/plain": [
<<<<<<< HEAD
       "<unittest.main.TestProgram at 0x7fecd77b5160>"
=======
       "<unittest.main.TestProgram at 0x7fc044a28d60>"
>>>>>>> 24d16c8660bf2399bfefda013aac397f615be214
      ]
     },
     "execution_count": 1,
     "metadata": {},
     "output_type": "execute_result"
    }
   ],
   "source": [
    "import unittest\n",
    "import import_ipynb\n",
    "# importing the Jupyter notebook with the scraper\n",
    "from artificial_cart_builder import build_cart \n",
    "\n",
    "\n",
    "class TestWebScraper(unittest.TestCase):\n",
    "    def test1(self):\n",
    "        self.assertFalse(build_cart(-1))\n",
    "    def test2(self):\n",
    "        self.assertTrue(build_cart(0))\n",
    "    def test3(self):\n",
    "        self.assertTrue(build_cart(15))\n",
    "    def test4(self):\n",
    "        self.assertTrue(build_cart(28))\n",
    "    def test5(self):\n",
    "        self.assertFalse(build_cart(29))\n",
    "    def test6(self):\n",
    "        self.assertFalse(build_cart('one'))\n",
    "\n",
    "\n",
    "# to prevent unittest.main from trying to shutdown the kernel process\n",
<<<<<<< HEAD
    "unittest.main(argv=['first-arg-is-ignored'], exit=False)"
=======
    "unittest.main(argv=['first-arg-is-ignored'], exit=False)\n"
>>>>>>> 24d16c8660bf2399bfefda013aac397f615be214
   ]
  },
  {
   "cell_type": "code",
   "execution_count": null,
   "metadata": {},
   "outputs": [],
   "source": []
  }
 ],
 "metadata": {
  "kernelspec": {
   "display_name": "Python 3",
   "language": "python",
   "name": "python3"
  },
  "language_info": {
   "codemirror_mode": {
    "name": "ipython",
    "version": 3
   },
   "file_extension": ".py",
   "mimetype": "text/x-python",
   "name": "python",
   "nbconvert_exporter": "python",
   "pygments_lexer": "ipython3",
   "version": "3.8.3"
  }
 },
 "nbformat": 4,
 "nbformat_minor": 4
}
