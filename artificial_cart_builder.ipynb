{
 "cells": [
  {
   "cell_type": "code",
   "execution_count": 1,
   "metadata": {},
   "outputs": [],
   "source": [
    "import codecs\n",
    "import json\n",
    "from bs4 import BeautifulSoup\n",
    "import random\n",
    "\n",
    "def build_cart(x):\n",
    "    try:\n",
    "        # html from a random article with 28 Amazon items \n",
    "        our_page = codecs.open('amazon-items.html', 'r') \n",
    "        soup = BeautifulSoup(our_page, 'html.parser')\n",
    "\n",
    "        # all products are within this div tag\n",
    "        products = soup.findAll(\"div\",{\"class\":\"slide\"})\n",
    "\n",
    "        # initialize dictionary for all product info\n",
    "        appendix={}\n",
    "\n",
    "        # loop through all products in the cart and get their link, item code, name, price\n",
    "        for each in products:\n",
    "            link = each.a['href']\n",
    "            asin = each.a['data-amzn-asin']\n",
    "            split = each.h3.text.split(\", \")\n",
    "            name = split[0]\n",
    "            price = split[1]\n",
    "\n",
    "            appendix.update({\n",
    "                asin:{\n",
    "                    \"link\" : link,\n",
    "                    \"name\" : name,\n",
    "                    \"price\" : price,\n",
    "                    # \"category\" : category\n",
    "                }\n",
    "            })\n",
    "\n",
    "        # method for building cart; parameter must be a non-negative integer less than or equal to 28  \n",
    "        if (x > 28) or (x < 0) or (type(x) != int):\n",
    "            print('Count of items out of range. Please pick a non-negative integer less than or equal to 28.')\n",
    "            return False\n",
    "        else:\n",
    "            cart = dict(random.sample(appendix.items(), x))\n",
    "            return True\n",
    "    \n",
    "    except:\n",
    "        return False"
   ]
  },
  {
   "cell_type": "code",
   "execution_count": null,
   "metadata": {},
   "outputs": [],
   "source": []
  }
 ],
 "metadata": {
  "kernelspec": {
   "display_name": "Python 3",
   "language": "python",
   "name": "python3"
  },
  "language_info": {
   "codemirror_mode": {
    "name": "ipython",
    "version": 3
   },
   "file_extension": ".py",
   "mimetype": "text/x-python",
   "name": "python",
   "nbconvert_exporter": "python",
   "pygments_lexer": "ipython3",
   "version": "3.8.3"
  }
 },
 "nbformat": 4,
 "nbformat_minor": 4
}
