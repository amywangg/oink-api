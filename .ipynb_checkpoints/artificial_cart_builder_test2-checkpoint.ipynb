{
 "cells": [
  {
   "cell_type": "code",
   "execution_count": 1,
   "metadata": {},
   "outputs": [
    {
     "name": "stdout",
     "output_type": "stream",
     "text": [
      "importing Jupyter notebook from artificial_cart_builder2.ipynb\n"
     ]
    },
    {
     "name": "stderr",
     "output_type": "stream",
     "text": [
      "<ipython-input-1-6ed2b938e248>:9: ResourceWarning: unclosed file <_io.TextIOWrapper name='amazon-items2.html' mode='r' encoding='UTF-8'>\n",
      "  self.assertFalse(build_cart(-1))\n",
      "ResourceWarning: Enable tracemalloc to get the object allocation traceback\n",
      "."
     ]
    },
    {
     "name": "stdout",
     "output_type": "stream",
     "text": [
      "Count of items out of range. Please pick a non-negative integer less than or equal to 28.\n"
     ]
    },
    {
     "name": "stderr",
     "output_type": "stream",
     "text": [
      "<ipython-input-1-6ed2b938e248>:11: ResourceWarning: unclosed file <_io.TextIOWrapper name='amazon-items2.html' mode='r' encoding='UTF-8'>\n",
      "  self.assertTrue(build_cart(0))\n",
      "ResourceWarning: Enable tracemalloc to get the object allocation traceback\n",
      ".<ipython-input-1-6ed2b938e248>:13: ResourceWarning: unclosed file <_io.TextIOWrapper name='amazon-items2.html' mode='r' encoding='UTF-8'>\n",
      "  self.assertTrue(build_cart(19))\n",
      "ResourceWarning: Enable tracemalloc to get the object allocation traceback\n",
      ".<ipython-input-1-6ed2b938e248>:15: ResourceWarning: unclosed file <_io.TextIOWrapper name='amazon-items2.html' mode='r' encoding='UTF-8'>\n",
      "  self.assertTrue(build_cart(38))\n",
      "ResourceWarning: Enable tracemalloc to get the object allocation traceback\n",
      ".<ipython-input-1-6ed2b938e248>:17: ResourceWarning: unclosed file <_io.TextIOWrapper name='amazon-items2.html' mode='r' encoding='UTF-8'>\n",
      "  self.assertFalse(build_cart(39))\n",
      "ResourceWarning: Enable tracemalloc to get the object allocation traceback\n",
      "."
     ]
    },
    {
     "name": "stdout",
     "output_type": "stream",
     "text": [
      "Count of items out of range. Please pick a non-negative integer less than or equal to 28.\n"
     ]
    },
    {
     "name": "stderr",
     "output_type": "stream",
     "text": [
      "<ipython-input-1-6ed2b938e248>:19: ResourceWarning: unclosed file <_io.TextIOWrapper name='amazon-items2.html' mode='r' encoding='UTF-8'>\n",
      "  self.assertFalse(build_cart('one'))\n",
      "ResourceWarning: Enable tracemalloc to get the object allocation traceback\n",
      ".\n",
      "----------------------------------------------------------------------\n",
      "Ran 6 tests in 2.171s\n",
      "\n",
      "OK\n"
     ]
    },
    {
     "data": {
      "text/plain": [
       "<unittest.main.TestProgram at 0x7f802c134d00>"
      ]
     },
     "execution_count": 1,
     "metadata": {},
     "output_type": "execute_result"
    }
   ],
   "source": [
    "import unittest\n",
    "import import_ipynb\n",
    "# importing the Jupyter notebook with the scraper\n",
    "from artificial_cart_builder2 import build_cart \n",
    "\n",
    "\n",
    "class TestWebScraper(unittest.TestCase):\n",
    "    def test1(self):\n",
    "        self.assertFalse(build_cart(-1))\n",
    "    def test2(self):\n",
    "        self.assertTrue(build_cart(0))\n",
    "    def test3(self):\n",
    "        self.assertTrue(build_cart(19))\n",
    "    def test4(self):\n",
    "        self.assertTrue(build_cart(38))\n",
    "    def test5(self):\n",
    "        self.assertFalse(build_cart(39))\n",
    "    def test6(self):\n",
    "        self.assertFalse(build_cart('one'))\n",
    "\n",
    "\n",
    "# to prevent unittest.main from trying to shutdown the kernel process\n",
    "unittest.main(argv=['first-arg-is-ignored'], exit=False)"
   ]
  },
  {
   "cell_type": "code",
   "execution_count": null,
   "metadata": {},
   "outputs": [],
   "source": []
  }
 ],
 "metadata": {
  "kernelspec": {
   "display_name": "Python 3",
   "language": "python",
   "name": "python3"
  },
  "language_info": {
   "codemirror_mode": {
    "name": "ipython",
    "version": 3
   },
   "file_extension": ".py",
   "mimetype": "text/x-python",
   "name": "python",
   "nbconvert_exporter": "python",
   "pygments_lexer": "ipython3",
   "version": "3.8.3"
  }
 },
 "nbformat": 4,
 "nbformat_minor": 4
}
